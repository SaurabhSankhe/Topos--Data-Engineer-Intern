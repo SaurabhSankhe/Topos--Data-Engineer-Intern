{
 "cells": [
  {
   "cell_type": "markdown",
   "metadata": {},
   "source": [
    "# Data Engineer Intern Assessment\n",
    "\n",
    "## Saurabh Sankhe\n",
    "\n",
    "## Description about the project \n",
    "<b>\n",
    "    <p>\n",
    "        In this assignment we are going to visit https://en.wikipedia.org/wiki/List_of_United_States_cities_by_population website and extract the data about each cities which is displayed in the first table of the page. There are links to each city in that page which then gives us extra information about the city and has various other information, we are going to extract first short paragraph about the city i.e City Description and the list of Zipcodes available in that particular city and export the complete data to BigQuery importable csv file.\n",
    "    </p>\n",
    "</b>\n"
   ]
  },
  {
   "cell_type": "markdown",
   "metadata": {},
   "source": [
    "### Enter the path where you want the csv to be exported"
   ]
  },
  {
   "cell_type": "code",
   "execution_count": 68,
   "metadata": {},
   "outputs": [],
   "source": [
    "#Path where the csv file should be expoorted\n",
    "csv_Path=\"C://Users/Saurabh/Desktop/US_City_Data.csv\""
   ]
  },
  {
   "cell_type": "markdown",
   "metadata": {},
   "source": [
    "# Steps to upload data to Google Clouds BigQuery DataWarehousing Solution (To be followed after running the jupyter notebook):\n",
    "1. Run the jupyter notebook to create csv file at desired location\n",
    "2. Go to Google Cloud's BigQuery page from your account \n",
    "3. <b>Create</b> a <b>Project if there is no project</b> in your account else <b>select the project</b> in which you wish to upload the data\n",
    "4. <b>Create</b> the <b>data-set</b> if there is no data-set in your project else <b>select</b> the <b>data-set</b> under which you want your data \n",
    "5. Once the data-set is selected Go-to <b>Create Table</b>\n",
    "6. In <b>Source</b> Select create table from as - <b>Upload</b>\n",
    "7. <b>Browse</b> the path where you have exported your <b>CSV file</b>\n",
    "8. Select <b>File Format</b> as <b>CSV</b>\n",
    "9. Go-to <b>Table Name</b> and <b>Give the Table the desired name</b>. Preferable Name: US_City_Data\n",
    "10. Go-to <b>Schema</b> => And <b>select the Checkbox under Auto-detect Schema and input parameters</b> \n",
    "        \n",
    "\n",
    "\n",
    "## WebScraping the Wikipedia website\n",
    "\n",
    "<b><p>In order to extract the data grom the given wikipedia webpage we are going to use BeautifulSoup and requests from the python libraries which will fetch the relevant data that will eventually be converted into a pandas dataframe. Thus, we are going to use the following libraries.</p>\n",
    "<font color=red>\n",
    "1. requests - to get webcontent from the weburl\n",
    "2. BeautifulSoup - to properly arrange the data as per tags to which we can extract the relevant fields as we want\n",
    "3. Pandas - to convert the data into dataframe which will eventually be written to .csv file\n",
    "4. re - to apply regular expression\n",
    "</font>\n",
    "</b>"
   ]
  },
  {
   "cell_type": "code",
   "execution_count": 45,
   "metadata": {},
   "outputs": [],
   "source": [
    "#Importing the required libraries\n",
    "import pandas as pd\n",
    "import numpy as np\n",
    "import requests\n",
    "from bs4 import BeautifulSoup\n",
    "import re"
   ]
  },
  {
   "cell_type": "code",
   "execution_count": 46,
   "metadata": {},
   "outputs": [],
   "source": [
    "#Storing the url string into a variable\n",
    "url=\"https://en.wikipedia.org/wiki/List_of_United_States_cities_by_population\""
   ]
  },
  {
   "cell_type": "code",
   "execution_count": 47,
   "metadata": {},
   "outputs": [],
   "source": [
    "#stores all the url object to web_url variable\n",
    "web_url = requests.get(url)"
   ]
  },
  {
   "cell_type": "code",
   "execution_count": 48,
   "metadata": {},
   "outputs": [],
   "source": [
    "#Changing the content of web_url using lxml/html parser to modify the data which could be used to extract data in specific manner\n",
    "soup=BeautifulSoup(web_url.content,'lxml')"
   ]
  },
  {
   "cell_type": "markdown",
   "metadata": {},
   "source": [
    "<b>\n",
    "<font color=black>\n",
    "    After inspecting the webpage of wikipedia for which we are scraping the data we get to know that there are 4 tables in the webpage and all the tables have class: 'wikitable sortable'.\n",
    "</font>\n",
    "<br><br>\n",
    "<font color=black>\n",
    "    Since, we are interested in the first table of the source page going forward we will extract the contents of first table which is the relevant and important information that is needed to be converted and exported into .csv file\n",
    "</font>\n",
    "</b>"
   ]
  },
  {
   "cell_type": "code",
   "execution_count": 49,
   "metadata": {},
   "outputs": [],
   "source": [
    "#Extracting all the tables with class:wikitable sortable\n",
    "table_data=soup.find_all('table',{'class':'wikitable sortable'})"
   ]
  },
  {
   "cell_type": "code",
   "execution_count": 50,
   "metadata": {},
   "outputs": [
    {
     "data": {
      "text/plain": [
       "4"
      ]
     },
     "execution_count": 50,
     "metadata": {},
     "output_type": "execute_result"
    }
   ],
   "source": [
    "#Checking the lengthof the table data \n",
    "len(table_data)"
   ]
  },
  {
   "cell_type": "markdown",
   "metadata": {},
   "source": [
    "<b><font color='black'>From the above length we can say that parser has extracted 4 tables and that all 4 tables have the same class of wikitable sortable. We need to extract all the data from table 1 and have our data manupulation on that table. Going forward we have only extracted data from table_data[0] which is the data that we need to extract.</blue></b>"
   ]
  },
  {
   "cell_type": "code",
   "execution_count": 51,
   "metadata": {},
   "outputs": [],
   "source": [
    "#Creating a list of table_header to store the column names of the data\n",
    "table_header = []\n",
    "for th in table_data[0].find_all('th'):\n",
    "    table_header.append(th.text.replace(\"\\n\",\"\"))"
   ]
  },
  {
   "cell_type": "markdown",
   "metadata": {},
   "source": [
    "<b>Also now, if we look at our original table we have sub columns for \"2016 land area\" and \"2016 population density\". So we need to handle our table headers and modify them in such a way that there are equal number of columns and our column headers. Thus we have created seperate columns for land area and population density as per miles and kilometers</b>"
   ]
  },
  {
   "cell_type": "code",
   "execution_count": 52,
   "metadata": {},
   "outputs": [],
   "source": [
    "#Creating new list to store modified columns\n",
    "thli=[]\n",
    "for th in table_header:\n",
    "    if 'land area' in th:\n",
    "        thli.append(th+' sq mi')\n",
    "        thli.append(th+' sq km')\n",
    "    elif 'population density' in th:\n",
    "        thli.append(th+' per sq mi')\n",
    "        thli.append(th+' per sq km')\n",
    "    else:\n",
    "        thli.append(th)\n",
    "\n",
    "#Assigning the newly created list to table_header to match the number of columns each row will have.\n",
    "table_header = thli"
   ]
  },
  {
   "cell_type": "code",
   "execution_count": 53,
   "metadata": {},
   "outputs": [
    {
     "data": {
      "text/plain": [
       "['2018rank',\n",
       " 'City',\n",
       " 'State[c]',\n",
       " '2018estimate',\n",
       " '2010Census',\n",
       " 'Change',\n",
       " '2016 land area sq mi',\n",
       " '2016 land area sq km',\n",
       " '2016 population density per sq mi',\n",
       " '2016 population density per sq km',\n",
       " 'Location']"
      ]
     },
     "execution_count": 53,
     "metadata": {},
     "output_type": "execute_result"
    }
   ],
   "source": [
    "#Printing the list of table_header to console\n",
    "table_header"
   ]
  },
  {
   "cell_type": "markdown",
   "metadata": {},
   "source": [
    "<b> Extracting all the table rows i.e tr tags from the first table from which we will extract table data for each row and store it in col_data which is a list of individual row data and maintain a list for each row in row_data. Thus, our data is structured in following way:</b>"
   ]
  },
  {
   "cell_type": "markdown",
   "metadata": {},
   "source": [
    "<b><font color=red> row_data => [row1, row2, row3.....] </font></b>"
   ]
  },
  {
   "cell_type": "code",
   "execution_count": 54,
   "metadata": {},
   "outputs": [],
   "source": [
    "#Extracting all the data inside each tr tag for 1st table and storing it in tr_data\n",
    "tr_data=table_data[0].find_all('tr')"
   ]
  },
  {
   "cell_type": "code",
   "execution_count": 55,
   "metadata": {},
   "outputs": [],
   "source": [
    "#Creating list of row_data which will contain list for individual row as explained above. \n",
    "#col_data contains data for particular row which is then appended to row_data.\n",
    "row_data=[]\n",
    "for tr in tr_data[1:]:\n",
    "    td_data=tr.find_all('td')\n",
    "    col_data=[]\n",
    "    for td in td_data:\n",
    "        col_data.append(td.text.replace(\"\\n\",\"\"))\n",
    "    row_data.append(col_data)"
   ]
  },
  {
   "cell_type": "code",
   "execution_count": 56,
   "metadata": {},
   "outputs": [],
   "source": [
    "#Creating a dataframe from the extracted data\n",
    "df=pd.DataFrame(row_data,columns=table_header)"
   ]
  },
  {
   "cell_type": "code",
   "execution_count": 57,
   "metadata": {},
   "outputs": [
    {
     "data": {
      "text/plain": [
       "(314, 11)"
      ]
     },
     "execution_count": 57,
     "metadata": {},
     "output_type": "execute_result"
    }
   ],
   "source": [
    "#Printing the shape of the dataframe to console\n",
    "df.shape"
   ]
  },
  {
   "cell_type": "code",
   "execution_count": 58,
   "metadata": {},
   "outputs": [
    {
     "data": {
      "text/html": [
       "<div>\n",
       "<style scoped>\n",
       "    .dataframe tbody tr th:only-of-type {\n",
       "        vertical-align: middle;\n",
       "    }\n",
       "\n",
       "    .dataframe tbody tr th {\n",
       "        vertical-align: top;\n",
       "    }\n",
       "\n",
       "    .dataframe thead th {\n",
       "        text-align: right;\n",
       "    }\n",
       "</style>\n",
       "<table border=\"1\" class=\"dataframe\">\n",
       "  <thead>\n",
       "    <tr style=\"text-align: right;\">\n",
       "      <th></th>\n",
       "      <th>2018rank</th>\n",
       "      <th>City</th>\n",
       "      <th>State[c]</th>\n",
       "      <th>2018estimate</th>\n",
       "      <th>2010Census</th>\n",
       "      <th>Change</th>\n",
       "      <th>2016 land area sq mi</th>\n",
       "      <th>2016 land area sq km</th>\n",
       "      <th>2016 population density per sq mi</th>\n",
       "      <th>2016 population density per sq km</th>\n",
       "      <th>Location</th>\n",
       "    </tr>\n",
       "  </thead>\n",
       "  <tbody>\n",
       "    <tr>\n",
       "      <th>0</th>\n",
       "      <td>1</td>\n",
       "      <td>New York City[d]</td>\n",
       "      <td>New York</td>\n",
       "      <td>8,398,748</td>\n",
       "      <td>8,175,133</td>\n",
       "      <td>+2.74%</td>\n",
       "      <td>301.5 sq mi</td>\n",
       "      <td>780.9 km2</td>\n",
       "      <td>28,317/sq mi</td>\n",
       "      <td>10,933/km2</td>\n",
       "      <td>40°39′49″N 73°56′19″W﻿ / ﻿40.6635°N 73.9387°W﻿...</td>\n",
       "    </tr>\n",
       "    <tr>\n",
       "      <th>1</th>\n",
       "      <td>2</td>\n",
       "      <td>Los Angeles</td>\n",
       "      <td>California</td>\n",
       "      <td>3,990,456</td>\n",
       "      <td>3,792,621</td>\n",
       "      <td>+5.22%</td>\n",
       "      <td>468.7 sq mi</td>\n",
       "      <td>1,213.9 km2</td>\n",
       "      <td>8,484/sq mi</td>\n",
       "      <td>3,276/km2</td>\n",
       "      <td>34°01′10″N 118°24′39″W﻿ / ﻿34.0194°N 118.4108°...</td>\n",
       "    </tr>\n",
       "    <tr>\n",
       "      <th>2</th>\n",
       "      <td>3</td>\n",
       "      <td>Chicago</td>\n",
       "      <td>Illinois</td>\n",
       "      <td>2,705,994</td>\n",
       "      <td>2,695,598</td>\n",
       "      <td>+0.39%</td>\n",
       "      <td>227.3 sq mi</td>\n",
       "      <td>588.7 km2</td>\n",
       "      <td>11,900/sq mi</td>\n",
       "      <td>4,600/km2</td>\n",
       "      <td>41°50′15″N 87°40′54″W﻿ / ﻿41.8376°N 87.6818°W﻿...</td>\n",
       "    </tr>\n",
       "    <tr>\n",
       "      <th>3</th>\n",
       "      <td>4</td>\n",
       "      <td>Houston[3]</td>\n",
       "      <td>Texas</td>\n",
       "      <td>2,325,502</td>\n",
       "      <td>2,100,263</td>\n",
       "      <td>+10.72%</td>\n",
       "      <td>637.5 sq mi</td>\n",
       "      <td>1,651.1 km2</td>\n",
       "      <td>3,613/sq mi</td>\n",
       "      <td>1,395/km2</td>\n",
       "      <td>29°47′12″N 95°23′27″W﻿ / ﻿29.7866°N 95.3909°W﻿...</td>\n",
       "    </tr>\n",
       "    <tr>\n",
       "      <th>4</th>\n",
       "      <td>5</td>\n",
       "      <td>Phoenix</td>\n",
       "      <td>Arizona</td>\n",
       "      <td>1,660,272</td>\n",
       "      <td>1,445,632</td>\n",
       "      <td>+14.85%</td>\n",
       "      <td>517.6 sq mi</td>\n",
       "      <td>1,340.6 km2</td>\n",
       "      <td>3,120/sq mi</td>\n",
       "      <td>1,200/km2</td>\n",
       "      <td>33°34′20″N 112°05′24″W﻿ / ﻿33.5722°N 112.0901°...</td>\n",
       "    </tr>\n",
       "  </tbody>\n",
       "</table>\n",
       "</div>"
      ],
      "text/plain": [
       "  2018rank              City     State[c] 2018estimate 2010Census   Change  \\\n",
       "0        1  New York City[d]     New York    8,398,748  8,175,133   +2.74%   \n",
       "1        2       Los Angeles   California    3,990,456  3,792,621   +5.22%   \n",
       "2        3           Chicago     Illinois    2,705,994  2,695,598   +0.39%   \n",
       "3        4        Houston[3]        Texas    2,325,502  2,100,263  +10.72%   \n",
       "4        5           Phoenix      Arizona    1,660,272  1,445,632  +14.85%   \n",
       "\n",
       "  2016 land area sq mi 2016 land area sq km 2016 population density per sq mi  \\\n",
       "0          301.5 sq mi            780.9 km2                      28,317/sq mi   \n",
       "1          468.7 sq mi          1,213.9 km2                       8,484/sq mi   \n",
       "2          227.3 sq mi            588.7 km2                      11,900/sq mi   \n",
       "3          637.5 sq mi          1,651.1 km2                       3,613/sq mi   \n",
       "4          517.6 sq mi          1,340.6 km2                       3,120/sq mi   \n",
       "\n",
       "  2016 population density per sq km  \\\n",
       "0                        10,933/km2   \n",
       "1                         3,276/km2   \n",
       "2                         4,600/km2   \n",
       "3                         1,395/km2   \n",
       "4                         1,200/km2   \n",
       "\n",
       "                                            Location  \n",
       "0  40°39′49″N 73°56′19″W﻿ / ﻿40.6635°N 73.9387°W﻿...  \n",
       "1  34°01′10″N 118°24′39″W﻿ / ﻿34.0194°N 118.4108°...  \n",
       "2  41°50′15″N 87°40′54″W﻿ / ﻿41.8376°N 87.6818°W﻿...  \n",
       "3  29°47′12″N 95°23′27″W﻿ / ﻿29.7866°N 95.3909°W﻿...  \n",
       "4  33°34′20″N 112°05′24″W﻿ / ﻿33.5722°N 112.0901°...  "
      ]
     },
     "execution_count": 58,
     "metadata": {},
     "output_type": "execute_result"
    }
   ],
   "source": [
    "#Printing the head of the dataframe to console\n",
    "df.head()"
   ]
  },
  {
   "cell_type": "markdown",
   "metadata": {},
   "source": [
    "## Performing WebScraping for each City page\n",
    "### Extracting links from the city column\n",
    "\n",
    "<b> Let us first see how our links are before we perform webscraping to all the links. After looking at the webpage we get to know that there are links to each city in the <font color='red'>City</font> column which we will extract and look how the link is to <font color='red'>NewYork City</font> (in our case).</b>"
   ]
  },
  {
   "cell_type": "code",
   "execution_count": 59,
   "metadata": {},
   "outputs": [
    {
     "data": {
      "text/plain": [
       "'/wiki/New_York_City'"
      ]
     },
     "execution_count": 59,
     "metadata": {},
     "output_type": "execute_result"
    }
   ],
   "source": [
    "#Extracting the link to NewYork City\n",
    "tr_data[1].find_all('td')[1].find('a').get('href')"
   ]
  },
  {
   "cell_type": "markdown",
   "metadata": {},
   "source": [
    "<b>Since, we just have the the naked url we need to append https://en.wikipedia.org to each url and create a list of url names which are stored in <font color='red'>links_of_cities</font></b>"
   ]
  },
  {
   "cell_type": "code",
   "execution_count": 60,
   "metadata": {},
   "outputs": [],
   "source": [
    "#Finding all the links to cities and appending the above mentioned wikipedia URL to create a valid url.\n",
    "#Storing the valid URLs to list links_of_cities\n",
    "links_of_cities=[]\n",
    "for tr in tr_data[1:]:\n",
    "    links_of_cities.append('https://en.wikipedia.org'+tr.find_all('td')[1].find('a').get('href'))"
   ]
  },
  {
   "cell_type": "code",
   "execution_count": 61,
   "metadata": {},
   "outputs": [
    {
     "data": {
      "text/plain": [
       "['https://en.wikipedia.org/wiki/New_York_City',\n",
       " 'https://en.wikipedia.org/wiki/Los_Angeles',\n",
       " 'https://en.wikipedia.org/wiki/Chicago',\n",
       " 'https://en.wikipedia.org/wiki/Houston',\n",
       " 'https://en.wikipedia.org/wiki/Phoenix,_Arizona',\n",
       " 'https://en.wikipedia.org/wiki/Philadelphia',\n",
       " 'https://en.wikipedia.org/wiki/San_Antonio',\n",
       " 'https://en.wikipedia.org/wiki/San_Diego',\n",
       " 'https://en.wikipedia.org/wiki/Dallas',\n",
       " 'https://en.wikipedia.org/wiki/San_Jose,_California',\n",
       " 'https://en.wikipedia.org/wiki/Austin,_Texas',\n",
       " 'https://en.wikipedia.org/wiki/Jacksonville,_Florida',\n",
       " 'https://en.wikipedia.org/wiki/Fort_Worth,_Texas',\n",
       " 'https://en.wikipedia.org/wiki/Columbus,_Ohio',\n",
       " 'https://en.wikipedia.org/wiki/San_Francisco',\n",
       " 'https://en.wikipedia.org/wiki/Charlotte,_North_Carolina',\n",
       " 'https://en.wikipedia.org/wiki/Indianapolis',\n",
       " 'https://en.wikipedia.org/wiki/Seattle',\n",
       " 'https://en.wikipedia.org/wiki/Denver',\n",
       " 'https://en.wikipedia.org/wiki/Washington,_D.C.',\n",
       " 'https://en.wikipedia.org/wiki/Boston',\n",
       " 'https://en.wikipedia.org/wiki/El_Paso,_Texas',\n",
       " 'https://en.wikipedia.org/wiki/Detroit',\n",
       " 'https://en.wikipedia.org/wiki/Nashville,_Tennessee',\n",
       " 'https://en.wikipedia.org/wiki/Portland,_Oregon',\n",
       " 'https://en.wikipedia.org/wiki/Memphis,_Tennessee',\n",
       " 'https://en.wikipedia.org/wiki/Oklahoma_City',\n",
       " 'https://en.wikipedia.org/wiki/Las_Vegas',\n",
       " 'https://en.wikipedia.org/wiki/Louisville,_Kentucky',\n",
       " 'https://en.wikipedia.org/wiki/Baltimore',\n",
       " 'https://en.wikipedia.org/wiki/Milwaukee',\n",
       " 'https://en.wikipedia.org/wiki/Albuquerque,_New_Mexico',\n",
       " 'https://en.wikipedia.org/wiki/Tucson,_Arizona',\n",
       " 'https://en.wikipedia.org/wiki/Fresno,_California',\n",
       " 'https://en.wikipedia.org/wiki/Mesa,_Arizona',\n",
       " 'https://en.wikipedia.org/wiki/Sacramento,_California',\n",
       " 'https://en.wikipedia.org/wiki/Atlanta',\n",
       " 'https://en.wikipedia.org/wiki/Kansas_City,_Missouri',\n",
       " 'https://en.wikipedia.org/wiki/Colorado_Springs,_Colorado',\n",
       " 'https://en.wikipedia.org/wiki/Miami',\n",
       " 'https://en.wikipedia.org/wiki/Raleigh,_North_Carolina',\n",
       " 'https://en.wikipedia.org/wiki/Omaha,_Nebraska',\n",
       " 'https://en.wikipedia.org/wiki/Long_Beach,_California',\n",
       " 'https://en.wikipedia.org/wiki/Virginia_Beach,_Virginia',\n",
       " 'https://en.wikipedia.org/wiki/Oakland,_California',\n",
       " 'https://en.wikipedia.org/wiki/Minneapolis',\n",
       " 'https://en.wikipedia.org/wiki/Tulsa,_Oklahoma',\n",
       " 'https://en.wikipedia.org/wiki/Arlington,_Texas',\n",
       " 'https://en.wikipedia.org/wiki/Tampa,_Florida',\n",
       " 'https://en.wikipedia.org/wiki/New_Orleans',\n",
       " 'https://en.wikipedia.org/wiki/Wichita,_Kansas',\n",
       " 'https://en.wikipedia.org/wiki/Cleveland',\n",
       " 'https://en.wikipedia.org/wiki/Bakersfield,_California',\n",
       " 'https://en.wikipedia.org/wiki/Aurora,_Colorado',\n",
       " 'https://en.wikipedia.org/wiki/Anaheim,_California',\n",
       " 'https://en.wikipedia.org/wiki/Honolulu',\n",
       " 'https://en.wikipedia.org/wiki/Santa_Ana,_California',\n",
       " 'https://en.wikipedia.org/wiki/Riverside,_California',\n",
       " 'https://en.wikipedia.org/wiki/Corpus_Christi,_Texas',\n",
       " 'https://en.wikipedia.org/wiki/Lexington,_Kentucky',\n",
       " 'https://en.wikipedia.org/wiki/Stockton,_California',\n",
       " 'https://en.wikipedia.org/wiki/Henderson,_Nevada',\n",
       " 'https://en.wikipedia.org/wiki/Saint_Paul,_Minnesota',\n",
       " 'https://en.wikipedia.org/wiki/St._Louis',\n",
       " 'https://en.wikipedia.org/wiki/Cincinnati',\n",
       " 'https://en.wikipedia.org/wiki/Pittsburgh',\n",
       " 'https://en.wikipedia.org/wiki/Greensboro,_North_Carolina',\n",
       " 'https://en.wikipedia.org/wiki/Anchorage,_Alaska',\n",
       " 'https://en.wikipedia.org/wiki/Plano,_Texas',\n",
       " 'https://en.wikipedia.org/wiki/Lincoln,_Nebraska',\n",
       " 'https://en.wikipedia.org/wiki/Orlando,_Florida',\n",
       " 'https://en.wikipedia.org/wiki/Irvine,_California',\n",
       " 'https://en.wikipedia.org/wiki/Newark,_New_Jersey',\n",
       " 'https://en.wikipedia.org/wiki/Toledo,_Ohio',\n",
       " 'https://en.wikipedia.org/wiki/Durham,_North_Carolina',\n",
       " 'https://en.wikipedia.org/wiki/Chula_Vista,_California',\n",
       " 'https://en.wikipedia.org/wiki/Fort_Wayne,_Indiana',\n",
       " 'https://en.wikipedia.org/wiki/Jersey_City,_New_Jersey',\n",
       " 'https://en.wikipedia.org/wiki/St._Petersburg,_Florida',\n",
       " 'https://en.wikipedia.org/wiki/Laredo,_Texas',\n",
       " 'https://en.wikipedia.org/wiki/Madison,_Wisconsin',\n",
       " 'https://en.wikipedia.org/wiki/Chandler,_Arizona',\n",
       " 'https://en.wikipedia.org/wiki/Buffalo,_New_York',\n",
       " 'https://en.wikipedia.org/wiki/Lubbock,_Texas',\n",
       " 'https://en.wikipedia.org/wiki/Scottsdale,_Arizona',\n",
       " 'https://en.wikipedia.org/wiki/Reno,_Nevada',\n",
       " 'https://en.wikipedia.org/wiki/Glendale,_Arizona',\n",
       " 'https://en.wikipedia.org/wiki/Gilbert,_Arizona',\n",
       " 'https://en.wikipedia.org/wiki/Winston%E2%80%93Salem,_North_Carolina',\n",
       " 'https://en.wikipedia.org/wiki/North_Las_Vegas,_Nevada',\n",
       " 'https://en.wikipedia.org/wiki/Norfolk,_Virginia',\n",
       " 'https://en.wikipedia.org/wiki/Chesapeake,_Virginia',\n",
       " 'https://en.wikipedia.org/wiki/Garland,_Texas',\n",
       " 'https://en.wikipedia.org/wiki/Irving,_Texas',\n",
       " 'https://en.wikipedia.org/wiki/Hialeah,_Florida',\n",
       " 'https://en.wikipedia.org/wiki/Fremont,_California',\n",
       " 'https://en.wikipedia.org/wiki/Boise,_Idaho',\n",
       " 'https://en.wikipedia.org/wiki/Richmond,_Virginia',\n",
       " 'https://en.wikipedia.org/wiki/Baton_Rouge,_Louisiana',\n",
       " 'https://en.wikipedia.org/wiki/Spokane,_Washington',\n",
       " 'https://en.wikipedia.org/wiki/Des_Moines,_Iowa',\n",
       " 'https://en.wikipedia.org/wiki/Tacoma,_Washington',\n",
       " 'https://en.wikipedia.org/wiki/San_Bernardino,_California',\n",
       " 'https://en.wikipedia.org/wiki/Modesto,_California',\n",
       " 'https://en.wikipedia.org/wiki/Fontana,_California',\n",
       " 'https://en.wikipedia.org/wiki/Santa_Clarita,_California',\n",
       " 'https://en.wikipedia.org/wiki/Birmingham,_Alabama',\n",
       " 'https://en.wikipedia.org/wiki/Oxnard,_California',\n",
       " 'https://en.wikipedia.org/wiki/Fayetteville,_North_Carolina',\n",
       " 'https://en.wikipedia.org/wiki/Moreno_Valley,_California',\n",
       " 'https://en.wikipedia.org/wiki/Rochester,_New_York',\n",
       " 'https://en.wikipedia.org/wiki/Glendale,_California',\n",
       " 'https://en.wikipedia.org/wiki/Huntington_Beach,_California',\n",
       " 'https://en.wikipedia.org/wiki/Salt_Lake_City',\n",
       " 'https://en.wikipedia.org/wiki/Grand_Rapids,_Michigan',\n",
       " 'https://en.wikipedia.org/wiki/Amarillo,_Texas',\n",
       " 'https://en.wikipedia.org/wiki/Yonkers,_New_York',\n",
       " 'https://en.wikipedia.org/wiki/Aurora,_Illinois',\n",
       " 'https://en.wikipedia.org/wiki/Montgomery,_Alabama',\n",
       " 'https://en.wikipedia.org/wiki/Akron,_Ohio',\n",
       " 'https://en.wikipedia.org/wiki/Little_Rock,_Arkansas',\n",
       " 'https://en.wikipedia.org/wiki/Huntsville,_Alabama',\n",
       " 'https://en.wikipedia.org/wiki/Augusta,_Georgia',\n",
       " 'https://en.wikipedia.org/wiki/Port_St._Lucie,_Florida',\n",
       " 'https://en.wikipedia.org/wiki/Grand_Prairie,_Texas',\n",
       " 'https://en.wikipedia.org/wiki/Columbus,_Georgia',\n",
       " 'https://en.wikipedia.org/wiki/Tallahassee,_Florida',\n",
       " 'https://en.wikipedia.org/wiki/Overland_Park,_Kansas',\n",
       " 'https://en.wikipedia.org/wiki/Tempe,_Arizona',\n",
       " 'https://en.wikipedia.org/wiki/McKinney,_Texas',\n",
       " 'https://en.wikipedia.org/wiki/Mobile,_Alabama',\n",
       " 'https://en.wikipedia.org/wiki/Cape_Coral,_Florida',\n",
       " 'https://en.wikipedia.org/wiki/Shreveport,_Louisiana',\n",
       " 'https://en.wikipedia.org/wiki/Frisco,_Texas',\n",
       " 'https://en.wikipedia.org/wiki/Knoxville,_Tennessee',\n",
       " 'https://en.wikipedia.org/wiki/Worcester,_Massachusetts',\n",
       " 'https://en.wikipedia.org/wiki/Brownsville,_Texas',\n",
       " 'https://en.wikipedia.org/wiki/Vancouver,_Washington',\n",
       " 'https://en.wikipedia.org/wiki/Fort_Lauderdale,_Florida',\n",
       " 'https://en.wikipedia.org/wiki/Sioux_Falls,_South_Dakota',\n",
       " 'https://en.wikipedia.org/wiki/Ontario,_California',\n",
       " 'https://en.wikipedia.org/wiki/Chattanooga,_Tennessee',\n",
       " 'https://en.wikipedia.org/wiki/Providence,_Rhode_Island',\n",
       " 'https://en.wikipedia.org/wiki/Newport_News,_Virginia',\n",
       " 'https://en.wikipedia.org/wiki/Rancho_Cucamonga,_California',\n",
       " 'https://en.wikipedia.org/wiki/Santa_Rosa,_California',\n",
       " 'https://en.wikipedia.org/wiki/Oceanside,_California',\n",
       " 'https://en.wikipedia.org/wiki/Salem,_Oregon',\n",
       " 'https://en.wikipedia.org/wiki/Elk_Grove,_California',\n",
       " 'https://en.wikipedia.org/wiki/Garden_Grove,_California',\n",
       " 'https://en.wikipedia.org/wiki/Pembroke_Pines,_Florida',\n",
       " 'https://en.wikipedia.org/wiki/Peoria,_Arizona',\n",
       " 'https://en.wikipedia.org/wiki/Eugene,_Oregon',\n",
       " 'https://en.wikipedia.org/wiki/Corona,_California',\n",
       " 'https://en.wikipedia.org/wiki/Cary,_North_Carolina',\n",
       " 'https://en.wikipedia.org/wiki/Springfield,_Missouri',\n",
       " 'https://en.wikipedia.org/wiki/Fort_Collins,_Colorado',\n",
       " 'https://en.wikipedia.org/wiki/Jackson,_Mississippi',\n",
       " 'https://en.wikipedia.org/wiki/Alexandria,_Virginia',\n",
       " 'https://en.wikipedia.org/wiki/Hayward,_California',\n",
       " 'https://en.wikipedia.org/wiki/Lancaster,_California',\n",
       " 'https://en.wikipedia.org/wiki/Lakewood,_Colorado',\n",
       " 'https://en.wikipedia.org/wiki/Clarksville,_Tennessee',\n",
       " 'https://en.wikipedia.org/wiki/Palmdale,_California',\n",
       " 'https://en.wikipedia.org/wiki/Salinas,_California',\n",
       " 'https://en.wikipedia.org/wiki/Springfield,_Massachusetts',\n",
       " 'https://en.wikipedia.org/wiki/Hollywood,_Florida',\n",
       " 'https://en.wikipedia.org/wiki/Pasadena,_Texas',\n",
       " 'https://en.wikipedia.org/wiki/Sunnyvale,_California',\n",
       " 'https://en.wikipedia.org/wiki/Macon,_Georgia',\n",
       " 'https://en.wikipedia.org/wiki/Kansas_City,_Kansas',\n",
       " 'https://en.wikipedia.org/wiki/Pomona,_California',\n",
       " 'https://en.wikipedia.org/wiki/Escondido,_California',\n",
       " 'https://en.wikipedia.org/wiki/Killeen,_Texas',\n",
       " 'https://en.wikipedia.org/wiki/Naperville,_Illinois',\n",
       " 'https://en.wikipedia.org/wiki/Joliet,_Illinois',\n",
       " 'https://en.wikipedia.org/wiki/Bellevue,_Washington',\n",
       " 'https://en.wikipedia.org/wiki/Rockford,_Illinois',\n",
       " 'https://en.wikipedia.org/wiki/Savannah,_Georgia',\n",
       " 'https://en.wikipedia.org/wiki/Paterson,_New_Jersey',\n",
       " 'https://en.wikipedia.org/wiki/Torrance,_California',\n",
       " 'https://en.wikipedia.org/wiki/Bridgeport,_Connecticut',\n",
       " 'https://en.wikipedia.org/wiki/McAllen,_Texas',\n",
       " 'https://en.wikipedia.org/wiki/Mesquite,_Texas',\n",
       " 'https://en.wikipedia.org/wiki/Syracuse,_New_York',\n",
       " 'https://en.wikipedia.org/wiki/Midland,_Texas',\n",
       " 'https://en.wikipedia.org/wiki/Pasadena,_California',\n",
       " 'https://en.wikipedia.org/wiki/Murfreesboro,_Tennessee',\n",
       " 'https://en.wikipedia.org/wiki/Miramar,_Florida',\n",
       " 'https://en.wikipedia.org/wiki/Dayton,_Ohio',\n",
       " 'https://en.wikipedia.org/wiki/Fullerton,_California',\n",
       " 'https://en.wikipedia.org/wiki/Olathe,_Kansas',\n",
       " 'https://en.wikipedia.org/wiki/Orange,_California',\n",
       " 'https://en.wikipedia.org/wiki/Thornton,_Colorado',\n",
       " 'https://en.wikipedia.org/wiki/Roseville,_California',\n",
       " 'https://en.wikipedia.org/wiki/Denton,_Texas',\n",
       " 'https://en.wikipedia.org/wiki/Waco,_Texas',\n",
       " 'https://en.wikipedia.org/wiki/Surprise,_Arizona',\n",
       " 'https://en.wikipedia.org/wiki/Carrollton,_Texas',\n",
       " 'https://en.wikipedia.org/wiki/West_Valley_City,_Utah',\n",
       " 'https://en.wikipedia.org/wiki/Charleston,_South_Carolina',\n",
       " 'https://en.wikipedia.org/wiki/Warren,_Michigan',\n",
       " 'https://en.wikipedia.org/wiki/Hampton,_Virginia',\n",
       " 'https://en.wikipedia.org/wiki/Gainesville,_Florida',\n",
       " 'https://en.wikipedia.org/wiki/Visalia,_California',\n",
       " 'https://en.wikipedia.org/wiki/Coral_Springs,_Florida',\n",
       " 'https://en.wikipedia.org/wiki/Columbia,_South_Carolina',\n",
       " 'https://en.wikipedia.org/wiki/Cedar_Rapids,_Iowa',\n",
       " 'https://en.wikipedia.org/wiki/Sterling_Heights,_Michigan',\n",
       " 'https://en.wikipedia.org/wiki/New_Haven,_Connecticut',\n",
       " 'https://en.wikipedia.org/wiki/Stamford,_Connecticut',\n",
       " 'https://en.wikipedia.org/wiki/Concord,_California',\n",
       " 'https://en.wikipedia.org/wiki/Kent,_Washington',\n",
       " 'https://en.wikipedia.org/wiki/Santa_Clara,_California',\n",
       " 'https://en.wikipedia.org/wiki/Elizabeth,_New_Jersey',\n",
       " 'https://en.wikipedia.org/wiki/Round_Rock,_Texas',\n",
       " 'https://en.wikipedia.org/wiki/Thousand_Oaks,_California',\n",
       " 'https://en.wikipedia.org/wiki/Lafayette,_Louisiana',\n",
       " 'https://en.wikipedia.org/wiki/Athens,_Georgia',\n",
       " 'https://en.wikipedia.org/wiki/Topeka,_Kansas',\n",
       " 'https://en.wikipedia.org/wiki/Simi_Valley,_California',\n",
       " 'https://en.wikipedia.org/wiki/Fargo,_North_Dakota',\n",
       " 'https://en.wikipedia.org/wiki/Norman,_Oklahoma',\n",
       " 'https://en.wikipedia.org/wiki/Columbia,_Missouri',\n",
       " 'https://en.wikipedia.org/wiki/Abilene,_Texas',\n",
       " 'https://en.wikipedia.org/wiki/Wilmington,_North_Carolina',\n",
       " 'https://en.wikipedia.org/wiki/Hartford,_Connecticut',\n",
       " 'https://en.wikipedia.org/wiki/Victorville,_California',\n",
       " 'https://en.wikipedia.org/wiki/Pearland,_Texas',\n",
       " 'https://en.wikipedia.org/wiki/Vallejo,_California',\n",
       " 'https://en.wikipedia.org/wiki/Ann_Arbor,_Michigan',\n",
       " 'https://en.wikipedia.org/wiki/Berkeley,_California',\n",
       " 'https://en.wikipedia.org/wiki/Allentown,_Pennsylvania',\n",
       " 'https://en.wikipedia.org/wiki/Richardson,_Texas',\n",
       " 'https://en.wikipedia.org/wiki/Odessa,_Texas',\n",
       " 'https://en.wikipedia.org/wiki/Arvada,_Colorado',\n",
       " 'https://en.wikipedia.org/wiki/Cambridge,_Massachusetts',\n",
       " 'https://en.wikipedia.org/wiki/Sugar_Land,_Texas',\n",
       " 'https://en.wikipedia.org/wiki/Beaumont,_Texas',\n",
       " 'https://en.wikipedia.org/wiki/Lansing,_Michigan',\n",
       " 'https://en.wikipedia.org/wiki/Evansville,_Indiana',\n",
       " 'https://en.wikipedia.org/wiki/Rochester,_Minnesota',\n",
       " 'https://en.wikipedia.org/wiki/Independence,_Missouri',\n",
       " 'https://en.wikipedia.org/wiki/Fairfield,_California',\n",
       " 'https://en.wikipedia.org/wiki/Provo,_Utah',\n",
       " 'https://en.wikipedia.org/wiki/Clearwater,_Florida',\n",
       " 'https://en.wikipedia.org/wiki/College_Station,_Texas',\n",
       " 'https://en.wikipedia.org/wiki/West_Jordan,_Utah',\n",
       " 'https://en.wikipedia.org/wiki/Carlsbad,_California',\n",
       " 'https://en.wikipedia.org/wiki/El_Monte,_California',\n",
       " 'https://en.wikipedia.org/wiki/Murrieta,_California',\n",
       " 'https://en.wikipedia.org/wiki/Temecula,_California',\n",
       " 'https://en.wikipedia.org/wiki/Springfield,_Illinois',\n",
       " 'https://en.wikipedia.org/wiki/Palm_Bay,_Florida',\n",
       " 'https://en.wikipedia.org/wiki/Costa_Mesa,_California',\n",
       " 'https://en.wikipedia.org/wiki/Westminster,_Colorado',\n",
       " 'https://en.wikipedia.org/wiki/North_Charleston,_South_Carolina',\n",
       " 'https://en.wikipedia.org/wiki/Miami_Gardens,_Florida',\n",
       " 'https://en.wikipedia.org/wiki/Manchester,_New_Hampshire',\n",
       " 'https://en.wikipedia.org/wiki/High_Point,_North_Carolina',\n",
       " 'https://en.wikipedia.org/wiki/Downey,_California',\n",
       " 'https://en.wikipedia.org/wiki/Clovis,_California',\n",
       " 'https://en.wikipedia.org/wiki/Pompano_Beach,_Florida',\n",
       " 'https://en.wikipedia.org/wiki/Pueblo,_Colorado',\n",
       " 'https://en.wikipedia.org/wiki/Elgin,_Illinois',\n",
       " 'https://en.wikipedia.org/wiki/Lowell,_Massachusetts',\n",
       " 'https://en.wikipedia.org/wiki/Antioch,_California',\n",
       " 'https://en.wikipedia.org/wiki/West_Palm_Beach,_Florida',\n",
       " 'https://en.wikipedia.org/wiki/Peoria,_Illinois',\n",
       " 'https://en.wikipedia.org/wiki/Everett,_Washington',\n",
       " 'https://en.wikipedia.org/wiki/Ventura,_California',\n",
       " 'https://en.wikipedia.org/wiki/Centennial,_Colorado',\n",
       " 'https://en.wikipedia.org/wiki/Lakeland,_Florida',\n",
       " 'https://en.wikipedia.org/wiki/Gresham,_Oregon',\n",
       " 'https://en.wikipedia.org/wiki/Richmond,_California',\n",
       " 'https://en.wikipedia.org/wiki/Billings,_Montana',\n",
       " 'https://en.wikipedia.org/wiki/Inglewood,_California',\n",
       " 'https://en.wikipedia.org/wiki/Broken_Arrow,_Oklahoma',\n",
       " 'https://en.wikipedia.org/wiki/Sandy_Springs,_Georgia',\n",
       " 'https://en.wikipedia.org/wiki/Jurupa_Valley,_California',\n",
       " 'https://en.wikipedia.org/wiki/Hillsboro,_Oregon',\n",
       " 'https://en.wikipedia.org/wiki/Waterbury,_Connecticut',\n",
       " 'https://en.wikipedia.org/wiki/Santa_Maria,_California',\n",
       " 'https://en.wikipedia.org/wiki/Boulder,_Colorado',\n",
       " 'https://en.wikipedia.org/wiki/Greeley,_Colorado',\n",
       " 'https://en.wikipedia.org/wiki/Daly_City,_California',\n",
       " 'https://en.wikipedia.org/wiki/Meridian,_Idaho',\n",
       " 'https://en.wikipedia.org/wiki/Lewisville,_Texas',\n",
       " 'https://en.wikipedia.org/wiki/Davie,_Florida',\n",
       " 'https://en.wikipedia.org/wiki/West_Covina,_California',\n",
       " 'https://en.wikipedia.org/wiki/League_City,_Texas',\n",
       " 'https://en.wikipedia.org/wiki/Tyler,_Texas',\n",
       " 'https://en.wikipedia.org/wiki/Norwalk,_California',\n",
       " 'https://en.wikipedia.org/wiki/San_Mateo,_California',\n",
       " 'https://en.wikipedia.org/wiki/Green_Bay,_Wisconsin',\n",
       " 'https://en.wikipedia.org/wiki/Wichita_Falls,_Texas',\n",
       " 'https://en.wikipedia.org/wiki/Sparks,_Nevada',\n",
       " 'https://en.wikipedia.org/wiki/Lakewood_Township,_New_Jersey',\n",
       " 'https://en.wikipedia.org/wiki/Burbank,_California',\n",
       " 'https://en.wikipedia.org/wiki/Rialto,_California',\n",
       " 'https://en.wikipedia.org/wiki/Allen,_Texas',\n",
       " 'https://en.wikipedia.org/wiki/El_Cajon,_California',\n",
       " 'https://en.wikipedia.org/wiki/Las_Cruces,_New_Mexico',\n",
       " 'https://en.wikipedia.org/wiki/Renton,_Washington',\n",
       " 'https://en.wikipedia.org/wiki/Davenport,_Iowa',\n",
       " 'https://en.wikipedia.org/wiki/South_Bend,_Indiana',\n",
       " 'https://en.wikipedia.org/wiki/Vista,_California',\n",
       " 'https://en.wikipedia.org/wiki/Tuscaloosa,_Alabama',\n",
       " 'https://en.wikipedia.org/wiki/Clinton_Township,_Macomb_County,_Michigan',\n",
       " 'https://en.wikipedia.org/wiki/Edison,_New_Jersey',\n",
       " 'https://en.wikipedia.org/wiki/Woodbridge_Township,_New_Jersey',\n",
       " 'https://en.wikipedia.org/wiki/San_Angelo,_Texas',\n",
       " 'https://en.wikipedia.org/wiki/Kenosha,_Wisconsin',\n",
       " 'https://en.wikipedia.org/wiki/Vacaville,_California']"
      ]
     },
     "execution_count": 61,
     "metadata": {},
     "output_type": "execute_result"
    }
   ],
   "source": [
    "#Printing the list of urls to console\n",
    "links_of_cities"
   ]
  },
  {
   "cell_type": "markdown",
   "metadata": {},
   "source": [
    "<b>Now since we have valid URLs to each city we will visit the city page and then extract a short description of cities and the zipcodes that belong to those cities</b>"
   ]
  },
  {
   "cell_type": "markdown",
   "metadata": {},
   "source": [
    "<b><font color=red>Note: If the city have no zipcodes we are going to append null string to the list. Also we clean the data by eleminating \\n in the text which we are going to extract</font></b>"
   ]
  },
  {
   "cell_type": "code",
   "execution_count": 62,
   "metadata": {},
   "outputs": [],
   "source": [
    "#Creating two new lists to store short description of city and zipcodes\n",
    "#short_desc_of_city will store a short description to each city\n",
    "#zip_codes will store zipcodes we get in that particular city\n",
    "short_desc_of_city=[]\n",
    "zip_codes=[]\n",
    "for city in links_of_cities:\n",
    "    sp=BeautifulSoup(requests.get(city).content,'lxml')\n",
    "    if sp.find_all('p')[1].text!=\"\\n\":\n",
    "        short_desc_of_city.append(sp.find_all('p')[1].text.replace(\"\\n\",\"\"))\n",
    "    else:\n",
    "        short_desc_of_city.append(sp.find_all('p')[2].text.replace(\"\\n\",\"\"))\n",
    "    if len(sp.find_all('div',{'class':'postal-code'}))>0:\n",
    "        zip_codes.append(sp.find_all('div',{'class':'postal-code'})[0].text.replace(\"\\n\",\"\"))\n",
    "    else:\n",
    "        zip_codes.append(\"\")"
   ]
  },
  {
   "cell_type": "markdown",
   "metadata": {},
   "source": [
    "<b> Now, Since we have Short Description and the Zipcodes of that city we will create a new column for storing those two data in our original dataframe. Going forward we will clean the zip-codes and Short_Description_of_City columns"
   ]
  },
  {
   "cell_type": "code",
   "execution_count": 63,
   "metadata": {},
   "outputs": [],
   "source": [
    "# Creating two new columns in our original dataframe to store short decription and the zipcodes of the city\n",
    "df['Short_Description_of_City']=short_desc_of_city\n",
    "df['zip-codes']=zip_codes"
   ]
  },
  {
   "cell_type": "markdown",
   "metadata": {},
   "source": [
    "### Cleaning the Zip-Codes and Short_Description_of_City column to remove unwanted data"
   ]
  },
  {
   "cell_type": "code",
   "execution_count": 64,
   "metadata": {},
   "outputs": [],
   "source": [
    "#Cleaning the zip-codes column\n",
    "df['zip-codes']=df['zip-codes'].apply(lambda x:\"\".join(re.findall(\"[0-9 x+,–]\",re.sub(\"[\\(\\[].*?[\\)\\]]\", \"\", x))))"
   ]
  },
  {
   "cell_type": "code",
   "execution_count": 65,
   "metadata": {},
   "outputs": [],
   "source": [
    "#Cleaning the Short_Description_of_City\n",
    "df['Short_Description_of_City']=df['Short_Description_of_City'].apply(lambda x: re.sub(\"[\\(\\[].*?[\\)\\]]\", \"\", x))"
   ]
  },
  {
   "cell_type": "code",
   "execution_count": 66,
   "metadata": {},
   "outputs": [
    {
     "data": {
      "text/html": [
       "<div>\n",
       "<style scoped>\n",
       "    .dataframe tbody tr th:only-of-type {\n",
       "        vertical-align: middle;\n",
       "    }\n",
       "\n",
       "    .dataframe tbody tr th {\n",
       "        vertical-align: top;\n",
       "    }\n",
       "\n",
       "    .dataframe thead th {\n",
       "        text-align: right;\n",
       "    }\n",
       "</style>\n",
       "<table border=\"1\" class=\"dataframe\">\n",
       "  <thead>\n",
       "    <tr style=\"text-align: right;\">\n",
       "      <th></th>\n",
       "      <th>2018rank</th>\n",
       "      <th>City</th>\n",
       "      <th>State[c]</th>\n",
       "      <th>2018estimate</th>\n",
       "      <th>2010Census</th>\n",
       "      <th>Change</th>\n",
       "      <th>2016 land area sq mi</th>\n",
       "      <th>2016 land area sq km</th>\n",
       "      <th>2016 population density per sq mi</th>\n",
       "      <th>2016 population density per sq km</th>\n",
       "      <th>Location</th>\n",
       "      <th>Short_Description_of_City</th>\n",
       "      <th>zip-codes</th>\n",
       "    </tr>\n",
       "  </thead>\n",
       "  <tbody>\n",
       "    <tr>\n",
       "      <th>0</th>\n",
       "      <td>1</td>\n",
       "      <td>New York City[d]</td>\n",
       "      <td>New York</td>\n",
       "      <td>8,398,748</td>\n",
       "      <td>8,175,133</td>\n",
       "      <td>+2.74%</td>\n",
       "      <td>301.5 sq mi</td>\n",
       "      <td>780.9 km2</td>\n",
       "      <td>28,317/sq mi</td>\n",
       "      <td>10,933/km2</td>\n",
       "      <td>40°39′49″N 73°56′19″W﻿ / ﻿40.6635°N 73.9387°W﻿...</td>\n",
       "      <td>The City of New York, usually called either Ne...</td>\n",
       "      <td>100xx–104xx, 11004–05, 111xx–114xx, 116xx</td>\n",
       "    </tr>\n",
       "    <tr>\n",
       "      <th>1</th>\n",
       "      <td>2</td>\n",
       "      <td>Los Angeles</td>\n",
       "      <td>California</td>\n",
       "      <td>3,990,456</td>\n",
       "      <td>3,792,621</td>\n",
       "      <td>+5.22%</td>\n",
       "      <td>468.7 sq mi</td>\n",
       "      <td>1,213.9 km2</td>\n",
       "      <td>8,484/sq mi</td>\n",
       "      <td>3,276/km2</td>\n",
       "      <td>34°01′10″N 118°24′39″W﻿ / ﻿34.0194°N 118.4108°...</td>\n",
       "      <td>Los Angeles ; Spanish: Los Ángeles), officiall...</td>\n",
       "      <td>90001–90084, 90086–90089, 90091, 90093–90097, ...</td>\n",
       "    </tr>\n",
       "    <tr>\n",
       "      <th>2</th>\n",
       "      <td>3</td>\n",
       "      <td>Chicago</td>\n",
       "      <td>Illinois</td>\n",
       "      <td>2,705,994</td>\n",
       "      <td>2,695,598</td>\n",
       "      <td>+0.39%</td>\n",
       "      <td>227.3 sq mi</td>\n",
       "      <td>588.7 km2</td>\n",
       "      <td>11,900/sq mi</td>\n",
       "      <td>4,600/km2</td>\n",
       "      <td>41°50′15″N 87°40′54″W﻿ / ﻿41.8376°N 87.6818°W﻿...</td>\n",
       "      <td>Chicago , locally also /ʃɪˈkɔːɡoʊ/), officiall...</td>\n",
       "      <td>606xx, 607xx, 608xx</td>\n",
       "    </tr>\n",
       "    <tr>\n",
       "      <th>3</th>\n",
       "      <td>4</td>\n",
       "      <td>Houston[3]</td>\n",
       "      <td>Texas</td>\n",
       "      <td>2,325,502</td>\n",
       "      <td>2,100,263</td>\n",
       "      <td>+10.72%</td>\n",
       "      <td>637.5 sq mi</td>\n",
       "      <td>1,651.1 km2</td>\n",
       "      <td>3,613/sq mi</td>\n",
       "      <td>1,395/km2</td>\n",
       "      <td>29°47′12″N 95°23′27″W﻿ / ﻿29.7866°N 95.3909°W﻿...</td>\n",
       "      <td>Houston  HEW-stən) is the most populous city i...</td>\n",
       "      <td>770xx, 772xx</td>\n",
       "    </tr>\n",
       "    <tr>\n",
       "      <th>4</th>\n",
       "      <td>5</td>\n",
       "      <td>Phoenix</td>\n",
       "      <td>Arizona</td>\n",
       "      <td>1,660,272</td>\n",
       "      <td>1,445,632</td>\n",
       "      <td>+14.85%</td>\n",
       "      <td>517.6 sq mi</td>\n",
       "      <td>1,340.6 km2</td>\n",
       "      <td>3,120/sq mi</td>\n",
       "      <td>1,200/km2</td>\n",
       "      <td>33°34′20″N 112°05′24″W﻿ / ﻿33.5722°N 112.0901°...</td>\n",
       "      <td>Phoenix  is the capital and most populous city...</td>\n",
       "      <td>85001–85099</td>\n",
       "    </tr>\n",
       "  </tbody>\n",
       "</table>\n",
       "</div>"
      ],
      "text/plain": [
       "  2018rank              City     State[c] 2018estimate 2010Census   Change  \\\n",
       "0        1  New York City[d]     New York    8,398,748  8,175,133   +2.74%   \n",
       "1        2       Los Angeles   California    3,990,456  3,792,621   +5.22%   \n",
       "2        3           Chicago     Illinois    2,705,994  2,695,598   +0.39%   \n",
       "3        4        Houston[3]        Texas    2,325,502  2,100,263  +10.72%   \n",
       "4        5           Phoenix      Arizona    1,660,272  1,445,632  +14.85%   \n",
       "\n",
       "  2016 land area sq mi 2016 land area sq km 2016 population density per sq mi  \\\n",
       "0          301.5 sq mi            780.9 km2                      28,317/sq mi   \n",
       "1          468.7 sq mi          1,213.9 km2                       8,484/sq mi   \n",
       "2          227.3 sq mi            588.7 km2                      11,900/sq mi   \n",
       "3          637.5 sq mi          1,651.1 km2                       3,613/sq mi   \n",
       "4          517.6 sq mi          1,340.6 km2                       3,120/sq mi   \n",
       "\n",
       "  2016 population density per sq km  \\\n",
       "0                        10,933/km2   \n",
       "1                         3,276/km2   \n",
       "2                         4,600/km2   \n",
       "3                         1,395/km2   \n",
       "4                         1,200/km2   \n",
       "\n",
       "                                            Location  \\\n",
       "0  40°39′49″N 73°56′19″W﻿ / ﻿40.6635°N 73.9387°W﻿...   \n",
       "1  34°01′10″N 118°24′39″W﻿ / ﻿34.0194°N 118.4108°...   \n",
       "2  41°50′15″N 87°40′54″W﻿ / ﻿41.8376°N 87.6818°W﻿...   \n",
       "3  29°47′12″N 95°23′27″W﻿ / ﻿29.7866°N 95.3909°W﻿...   \n",
       "4  33°34′20″N 112°05′24″W﻿ / ﻿33.5722°N 112.0901°...   \n",
       "\n",
       "                           Short_Description_of_City  \\\n",
       "0  The City of New York, usually called either Ne...   \n",
       "1  Los Angeles ; Spanish: Los Ángeles), officiall...   \n",
       "2  Chicago , locally also /ʃɪˈkɔːɡoʊ/), officiall...   \n",
       "3  Houston  HEW-stən) is the most populous city i...   \n",
       "4  Phoenix  is the capital and most populous city...   \n",
       "\n",
       "                                           zip-codes  \n",
       "0          100xx–104xx, 11004–05, 111xx–114xx, 116xx  \n",
       "1  90001–90084, 90086–90089, 90091, 90093–90097, ...  \n",
       "2                                606xx, 607xx, 608xx  \n",
       "3                                      770xx, 772xx   \n",
       "4                                        85001–85099  "
      ]
     },
     "execution_count": 66,
     "metadata": {},
     "output_type": "execute_result"
    }
   ],
   "source": [
    "#Printing the head of the dataframe to console\n",
    "df.head()"
   ]
  },
  {
   "cell_type": "markdown",
   "metadata": {},
   "source": [
    "## Exporting the data to BigQuery Importable CSV File\n",
    "\n",
    "<b>Since BigQuery expects the data to be encoded in UTF-8 format. We are going to export the data in the same format.</b>\n",
    "\n",
    "<b><font color=red>NOTE: Schema will be auto-detected while using UTF-8 encoding. Thus, the csv exported will be ready to be imported in BigQuery</font></b>\n"
   ]
  },
  {
   "cell_type": "code",
   "execution_count": 67,
   "metadata": {},
   "outputs": [],
   "source": [
    "df.to_csv(csv_Path,index=False,encoding='UTF-8')"
   ]
  },
  {
   "cell_type": "code",
   "execution_count": null,
   "metadata": {},
   "outputs": [],
   "source": []
  }
 ],
 "metadata": {
  "kernelspec": {
   "display_name": "Python 3",
   "language": "python",
   "name": "python3"
  },
  "language_info": {
   "codemirror_mode": {
    "name": "ipython",
    "version": 3
   },
   "file_extension": ".py",
   "mimetype": "text/x-python",
   "name": "python",
   "nbconvert_exporter": "python",
   "pygments_lexer": "ipython3",
   "version": "3.7.0"
  }
 },
 "nbformat": 4,
 "nbformat_minor": 2
}
